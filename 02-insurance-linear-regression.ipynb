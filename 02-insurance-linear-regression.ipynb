{
 "cells": [
  {
   "cell_type": "markdown",
   "metadata": {
    "toc": true
   },
   "source": [
    "<h1>Table of Contents<span class=\"tocSkip\"></span></h1>\n",
    "<div class=\"toc\"><ul class=\"toc-item\"><li><span><a href=\"#Insurance-cost-prediction-using-linear-regression\" data-toc-modified-id=\"Insurance-cost-prediction-using-linear-regression-1\"><span class=\"toc-item-num\">1&nbsp;&nbsp;</span>Insurance cost prediction using linear regression</a></span><ul class=\"toc-item\"><li><span><a href=\"#Step-1:-Download-and-explore-the-data\" data-toc-modified-id=\"Step-1:-Download-and-explore-the-data-1.1\"><span class=\"toc-item-num\">1.1&nbsp;&nbsp;</span>Step 1: Download and explore the data</a></span></li><li><span><a href=\"#Step-2:-Prepare-the-dataset-for-training\" data-toc-modified-id=\"Step-2:-Prepare-the-dataset-for-training-1.2\"><span class=\"toc-item-num\">1.2&nbsp;&nbsp;</span>Step 2: Prepare the dataset for training</a></span></li><li><span><a href=\"#Step-3:-Create-a-Linear-Regression-Model\" data-toc-modified-id=\"Step-3:-Create-a-Linear-Regression-Model-1.3\"><span class=\"toc-item-num\">1.3&nbsp;&nbsp;</span>Step 3: Create a Linear Regression Model</a></span></li><li><span><a href=\"#Step-4:-Train-the-model-to-fit-the-data\" data-toc-modified-id=\"Step-4:-Train-the-model-to-fit-the-data-1.4\"><span class=\"toc-item-num\">1.4&nbsp;&nbsp;</span>Step 4: Train the model to fit the data</a></span></li><li><span><a href=\"#Step-5:-Make-predictions-using-the-trained-model\" data-toc-modified-id=\"Step-5:-Make-predictions-using-the-trained-model-1.5\"><span class=\"toc-item-num\">1.5&nbsp;&nbsp;</span>Step 5: Make predictions using the trained model</a></span></li><li><span><a href=\"#(Optional)-Step-6:-Try-another-dataset-&amp;-blog-about-it\" data-toc-modified-id=\"(Optional)-Step-6:-Try-another-dataset-&amp;-blog-about-it-1.6\"><span class=\"toc-item-num\">1.6&nbsp;&nbsp;</span>(Optional) Step 6: Try another dataset &amp; blog about it</a></span></li></ul></li></ul></div>"
   ]
  },
  {
   "cell_type": "markdown",
   "metadata": {
    "_cell_guid": "b1076dfc-b9ad-4769-8c92-a6c4dae69d19",
    "_uuid": "8f2839f25d086af736a60e9eeb907d3b93b6e0e5"
   },
   "source": [
    "# Insurance cost prediction using linear regression\n",
    "\n",
    "In this assignment we're going to use information like a person's age, sex, BMI, no. of children and smoking habit to predict the price of yearly medical bills. This kind of model is useful for insurance companies to determine the yearly insurance premium for a person. The dataset for this problem is taken from: https://www.kaggle.com/mirichoi0218/insurance\n",
    "\n",
    "\n",
    "We will create a model with the following steps:\n",
    "1. Download and explore the dataset\n",
    "2. Prepare the dataset for training\n",
    "3. Create a linear regression model\n",
    "4. Train the model to fit the data\n",
    "5. Make predictions using the trained model\n",
    "\n",
    "\n",
    "This assignment builds upon the concepts from the first 2 lectures. It will help to review these Jupyter notebooks:\n",
    "- PyTorch basics: https://jovian.ml/aakashns/01-pytorch-basics\n",
    "- Linear Regression: https://jovian.ml/aakashns/02-linear-regression\n",
    "- Logistic Regression: https://jovian.ml/aakashns/03-logistic-regression\n",
    "- Linear regression (minimal): https://jovian.ml/aakashns/housing-linear-minimal\n",
    "- Logistic regression (minimal): https://jovian.ml/aakashns/mnist-logistic-minimal\n",
    "\n",
    "As you go through this notebook, you will find a **???** in certain places. Your job is to replace the **???** with appropriate code or values, to ensure that the notebook runs properly end-to-end . In some cases, you'll be required to choose some hyperparameters (learning rate, batch size etc.). Try to experiment with the hypeparameters to get the lowest loss.\n"
   ]
  },
  {
   "cell_type": "code",
   "execution_count": 1,
   "metadata": {},
   "outputs": [
    {
     "name": "stdout",
     "output_type": "stream",
     "text": [
      "\u001b[33mWARNING: You are using pip version 20.1; however, version 20.1.1 is available.\r\n",
      "You should consider upgrading via the '/opt/conda/bin/python3.7 -m pip install --upgrade pip' command.\u001b[0m\r\n"
     ]
    }
   ],
   "source": [
    "# Uncomment and run the commands below if imports fail\n",
    "# !conda install numpy pytorch torchvision cpuonly -c pytorch -y\n",
    "# !pip install matplotlib --upgrade --quiet\n",
    "!pip install jovian --upgrade --quiet"
   ]
  },
  {
   "cell_type": "code",
   "execution_count": 3,
   "metadata": {},
   "outputs": [],
   "source": [
    "import torch\n",
    "import jovian\n",
    "import torchvision\n",
    "import torch.nn as nn\n",
    "import pandas as pd\n",
    "import matplotlib.pyplot as plt\n",
    "import torch.nn.functional as F\n",
    "from torchvision.datasets.utils import download_url\n",
    "from torch.utils.data import DataLoader, TensorDataset, random_split"
   ]
  },
  {
   "cell_type": "code",
   "execution_count": 3,
   "metadata": {},
   "outputs": [],
   "source": [
    "project_name='02-insurance-linear-regression' # will be used by jovian.commit"
   ]
  },
  {
   "cell_type": "markdown",
   "metadata": {},
   "source": [
    "## Step 1: Download and explore the data\n",
    "\n",
    "Let us begin by downloading the data. We'll use the `download_url` function from PyTorch to get the data as a CSV (comma-separated values) file. "
   ]
  },
  {
   "cell_type": "code",
   "execution_count": 5,
   "metadata": {
    "_cell_guid": "79c7e3d0-c299-4dcb-8224-4455121ee9b0",
    "_uuid": "d629ff2d2480ee46fbb7e2d37f6b5fab8052498a"
   },
   "outputs": [
    {
     "name": "stdout",
     "output_type": "stream",
     "text": [
      "Using downloaded and verified file: .\\insurance.csv\n"
     ]
    }
   ],
   "source": [
    "DATASET_URL = \"https://hub.jovian.ml/wp-content/uploads/2020/05/insurance.csv\"\n",
    "DATA_FILENAME = \"insurance.csv\"\n",
    "download_url(DATASET_URL, '.')"
   ]
  },
  {
   "cell_type": "markdown",
   "metadata": {},
   "source": [
    "To load the dataset into memory, we'll use the `read_csv` function from the `pandas` library. The data will be loaded as a Pandas dataframe. See this short tutorial to learn more: https://data36.com/pandas-tutorial-1-basics-reading-data-files-dataframes-data-selection/"
   ]
  },
  {
   "cell_type": "code",
   "execution_count": 6,
   "metadata": {},
   "outputs": [
    {
     "data": {
      "text/html": [
       "<div>\n",
       "<style scoped>\n",
       "    .dataframe tbody tr th:only-of-type {\n",
       "        vertical-align: middle;\n",
       "    }\n",
       "\n",
       "    .dataframe tbody tr th {\n",
       "        vertical-align: top;\n",
       "    }\n",
       "\n",
       "    .dataframe thead th {\n",
       "        text-align: right;\n",
       "    }\n",
       "</style>\n",
       "<table border=\"1\" class=\"dataframe\">\n",
       "  <thead>\n",
       "    <tr style=\"text-align: right;\">\n",
       "      <th></th>\n",
       "      <th>age</th>\n",
       "      <th>sex</th>\n",
       "      <th>bmi</th>\n",
       "      <th>children</th>\n",
       "      <th>smoker</th>\n",
       "      <th>region</th>\n",
       "      <th>charges</th>\n",
       "    </tr>\n",
       "  </thead>\n",
       "  <tbody>\n",
       "    <tr>\n",
       "      <th>0</th>\n",
       "      <td>19</td>\n",
       "      <td>female</td>\n",
       "      <td>27.900</td>\n",
       "      <td>0</td>\n",
       "      <td>yes</td>\n",
       "      <td>southwest</td>\n",
       "      <td>16884.92400</td>\n",
       "    </tr>\n",
       "    <tr>\n",
       "      <th>1</th>\n",
       "      <td>18</td>\n",
       "      <td>male</td>\n",
       "      <td>33.770</td>\n",
       "      <td>1</td>\n",
       "      <td>no</td>\n",
       "      <td>southeast</td>\n",
       "      <td>1725.55230</td>\n",
       "    </tr>\n",
       "    <tr>\n",
       "      <th>2</th>\n",
       "      <td>28</td>\n",
       "      <td>male</td>\n",
       "      <td>33.000</td>\n",
       "      <td>3</td>\n",
       "      <td>no</td>\n",
       "      <td>southeast</td>\n",
       "      <td>4449.46200</td>\n",
       "    </tr>\n",
       "    <tr>\n",
       "      <th>3</th>\n",
       "      <td>33</td>\n",
       "      <td>male</td>\n",
       "      <td>22.705</td>\n",
       "      <td>0</td>\n",
       "      <td>no</td>\n",
       "      <td>northwest</td>\n",
       "      <td>21984.47061</td>\n",
       "    </tr>\n",
       "    <tr>\n",
       "      <th>4</th>\n",
       "      <td>32</td>\n",
       "      <td>male</td>\n",
       "      <td>28.880</td>\n",
       "      <td>0</td>\n",
       "      <td>no</td>\n",
       "      <td>northwest</td>\n",
       "      <td>3866.85520</td>\n",
       "    </tr>\n",
       "  </tbody>\n",
       "</table>\n",
       "</div>"
      ],
      "text/plain": [
       "   age     sex     bmi  children smoker     region      charges\n",
       "0   19  female  27.900         0    yes  southwest  16884.92400\n",
       "1   18    male  33.770         1     no  southeast   1725.55230\n",
       "2   28    male  33.000         3     no  southeast   4449.46200\n",
       "3   33    male  22.705         0     no  northwest  21984.47061\n",
       "4   32    male  28.880         0     no  northwest   3866.85520"
      ]
     },
     "execution_count": 6,
     "metadata": {},
     "output_type": "execute_result"
    }
   ],
   "source": [
    "dataframe_raw = pd.read_csv(DATA_FILENAME)\n",
    "dataframe_raw.head()"
   ]
  },
  {
   "cell_type": "markdown",
   "metadata": {},
   "source": [
    "We're going to do a slight customization of the data, so that you every participant receives a slightly different version of the dataset. Fill in your name below as a string (enter at least 5 characters)"
   ]
  },
  {
   "cell_type": "code",
   "execution_count": 7,
   "metadata": {},
   "outputs": [],
   "source": [
    "your_name = \"Sandor\" # at least 5 characters"
   ]
  },
  {
   "cell_type": "markdown",
   "metadata": {},
   "source": [
    "The `customize_dataset` function will customize the dataset slightly using your name as a source of random numbers."
   ]
  },
  {
   "cell_type": "code",
   "execution_count": 8,
   "metadata": {},
   "outputs": [],
   "source": [
    "def customize_dataset(dataframe_raw, rand_str):\n",
    "    dataframe = dataframe_raw.copy(deep=True)\n",
    "    # drop some rows\n",
    "    dataframe = dataframe.sample(int(0.95*len(dataframe)), random_state=int(ord(rand_str[0])))\n",
    "    # scale input\n",
    "    dataframe.bmi = dataframe.bmi * ord(rand_str[1])/100.\n",
    "    # scale target\n",
    "    dataframe.charges = dataframe.charges * ord(rand_str[2])/100.\n",
    "    # drop column\n",
    "    if ord(rand_str[3]) % 2 == 1:\n",
    "        dataframe = dataframe.drop(['region'], axis=1)\n",
    "    return dataframe"
   ]
  },
  {
   "cell_type": "code",
   "execution_count": 9,
   "metadata": {},
   "outputs": [
    {
     "data": {
      "text/html": [
       "<div>\n",
       "<style scoped>\n",
       "    .dataframe tbody tr th:only-of-type {\n",
       "        vertical-align: middle;\n",
       "    }\n",
       "\n",
       "    .dataframe tbody tr th {\n",
       "        vertical-align: top;\n",
       "    }\n",
       "\n",
       "    .dataframe thead th {\n",
       "        text-align: right;\n",
       "    }\n",
       "</style>\n",
       "<table border=\"1\" class=\"dataframe\">\n",
       "  <thead>\n",
       "    <tr style=\"text-align: right;\">\n",
       "      <th></th>\n",
       "      <th>age</th>\n",
       "      <th>sex</th>\n",
       "      <th>bmi</th>\n",
       "      <th>children</th>\n",
       "      <th>smoker</th>\n",
       "      <th>region</th>\n",
       "      <th>charges</th>\n",
       "    </tr>\n",
       "  </thead>\n",
       "  <tbody>\n",
       "    <tr>\n",
       "      <th>665</th>\n",
       "      <td>43</td>\n",
       "      <td>male</td>\n",
       "      <td>36.91820</td>\n",
       "      <td>2</td>\n",
       "      <td>yes</td>\n",
       "      <td>southeast</td>\n",
       "      <td>46816.473440</td>\n",
       "    </tr>\n",
       "    <tr>\n",
       "      <th>579</th>\n",
       "      <td>25</td>\n",
       "      <td>female</td>\n",
       "      <td>22.76105</td>\n",
       "      <td>0</td>\n",
       "      <td>no</td>\n",
       "      <td>northeast</td>\n",
       "      <td>3527.140485</td>\n",
       "    </tr>\n",
       "    <tr>\n",
       "      <th>84</th>\n",
       "      <td>37</td>\n",
       "      <td>female</td>\n",
       "      <td>33.75600</td>\n",
       "      <td>2</td>\n",
       "      <td>yes</td>\n",
       "      <td>southwest</td>\n",
       "      <td>43820.170900</td>\n",
       "    </tr>\n",
       "    <tr>\n",
       "      <th>244</th>\n",
       "      <td>63</td>\n",
       "      <td>female</td>\n",
       "      <td>26.90780</td>\n",
       "      <td>0</td>\n",
       "      <td>yes</td>\n",
       "      <td>northeast</td>\n",
       "      <td>32475.482160</td>\n",
       "    </tr>\n",
       "    <tr>\n",
       "      <th>1307</th>\n",
       "      <td>32</td>\n",
       "      <td>male</td>\n",
       "      <td>27.27640</td>\n",
       "      <td>4</td>\n",
       "      <td>yes</td>\n",
       "      <td>northwest</td>\n",
       "      <td>23619.726680</td>\n",
       "    </tr>\n",
       "  </tbody>\n",
       "</table>\n",
       "</div>"
      ],
      "text/plain": [
       "      age     sex       bmi  children smoker     region       charges\n",
       "665    43    male  36.91820         2    yes  southeast  46816.473440\n",
       "579    25  female  22.76105         0     no  northeast   3527.140485\n",
       "84     37  female  33.75600         2    yes  southwest  43820.170900\n",
       "244    63  female  26.90780         0    yes  northeast  32475.482160\n",
       "1307   32    male  27.27640         4    yes  northwest  23619.726680"
      ]
     },
     "execution_count": 9,
     "metadata": {},
     "output_type": "execute_result"
    }
   ],
   "source": [
    "dataframe = customize_dataset(dataframe_raw, your_name)\n",
    "dataframe.head()"
   ]
  },
  {
   "cell_type": "markdown",
   "metadata": {},
   "source": [
    "Let us answer some basic questions about the dataset. \n",
    "\n",
    "\n",
    "**Q: How many rows does the dataset have?**"
   ]
  },
  {
   "cell_type": "code",
   "execution_count": 10,
   "metadata": {},
   "outputs": [
    {
     "name": "stdout",
     "output_type": "stream",
     "text": [
      "1271\n"
     ]
    }
   ],
   "source": [
    "num_rows = len(dataframe)  # ???\n",
    "print(num_rows)"
   ]
  },
  {
   "cell_type": "markdown",
   "metadata": {},
   "source": [
    "**Q: How many columns doe the dataset have**"
   ]
  },
  {
   "cell_type": "code",
   "execution_count": 11,
   "metadata": {},
   "outputs": [
    {
     "name": "stdout",
     "output_type": "stream",
     "text": [
      "7\n"
     ]
    }
   ],
   "source": [
    "num_cols = len(dataframe.columns)  # ???\n",
    "print(num_cols)"
   ]
  },
  {
   "cell_type": "markdown",
   "metadata": {},
   "source": [
    "**Q: What are the column titles of the input variables?**"
   ]
  },
  {
   "cell_type": "code",
   "execution_count": 19,
   "metadata": {},
   "outputs": [],
   "source": [
    "input_cols = [\"age\", \"sex\", \"bmi\", \"children\", \"smoker\"]  # ???"
   ]
  },
  {
   "cell_type": "markdown",
   "metadata": {},
   "source": [
    "**Q: Which of the input columns are non-numeric or categorial variables ?**\n",
    "\n",
    "Hint: `sex` is one of them. List the columns that are not numbers."
   ]
  },
  {
   "cell_type": "code",
   "execution_count": 20,
   "metadata": {},
   "outputs": [],
   "source": [
    "categorical_cols = [\"sex\", \"smoker\"]  # ???"
   ]
  },
  {
   "cell_type": "markdown",
   "metadata": {},
   "source": [
    "**Q: What are the column titles of output/target variable(s)?**"
   ]
  },
  {
   "cell_type": "code",
   "execution_count": 21,
   "metadata": {},
   "outputs": [],
   "source": [
    "output_cols = [\"charges\"]  # ???"
   ]
  },
  {
   "cell_type": "markdown",
   "metadata": {},
   "source": [
    "**Q: (Optional) What is the minimum, maximum and average value of the `charges` column? Can you show the distribution of values in a graph?**\n",
    "Use this data visualization cheatsheet for referece: https://jovian.ml/aakashns/dataviz-cheatsheet"
   ]
  },
  {
   "cell_type": "code",
   "execution_count": 15,
   "metadata": {},
   "outputs": [
    {
     "name": "stdout",
     "output_type": "stream",
     "text": [
      "minimum value of charges:  1234.06129\n",
      "maximum value of charges:  70147.470811\n",
      "average value of charges:  14723.544868479876\n"
     ]
    },
    {
     "data": {
      "image/png": "[encoded data removed]",
      "text/plain": [
       "<Figure size 432x288 with 1 Axes>"
      ]
     },
     "metadata": {
      "needs_background": "light"
     },
     "output_type": "display_data"
    }
   ],
   "source": [
    "# Write your answer here\n",
    "print(\"minimum value of charges: \", dataframe.charges.min())\n",
    "print(\"maximum value of charges: \", dataframe.charges.max())\n",
    "print(\"average value of charges: \", dataframe.charges.mean())\n",
    "\n",
    "import seaborn as sns\n",
    "\n",
    "plt.title(\"Distribution of Charges\")\n",
    "\n",
    "sns.distplot(dataframe.charges);"
   ]
  },
  {
   "cell_type": "markdown",
   "metadata": {},
   "source": [
    "Remember to commit your notebook to Jovian after every step, so that you don't lose your work."
   ]
  },
  {
   "cell_type": "code",
   "execution_count": null,
   "metadata": {},
   "outputs": [],
   "source": [
    "jovian.commit(project=project_name, environment=None)"
   ]
  },
  {
   "cell_type": "markdown",
   "metadata": {},
   "source": [
    "## Step 2: Prepare the dataset for training\n",
    "\n",
    "We need to convert the data from the Pandas dataframe into a PyTorch tensors for training. To do this, the first step is to convert it numpy arrays. If you've filled out `input_cols`, `categorial_cols` and `output_cols` correctly, this following function will perform the conversion to numpy arrays."
   ]
  },
  {
   "cell_type": "code",
   "execution_count": 22,
   "metadata": {},
   "outputs": [],
   "source": [
    "def dataframe_to_arrays(dataframe):\n",
    "    # Make a copy of the original dataframe\n",
    "    dataframe1 = dataframe.copy(deep=True)\n",
    "    # Convert non-numeric categorical columns to numbers\n",
    "    for col in categorical_cols:\n",
    "        dataframe1[col] = dataframe1[col].astype('category').cat.codes\n",
    "    # Extract input & outupts as numpy arrays\n",
    "    inputs_array = dataframe1[input_cols].to_numpy()\n",
    "    targets_array = dataframe1[output_cols].to_numpy()\n",
    "    return inputs_array, targets_array"
   ]
  },
  {
   "cell_type": "markdown",
   "metadata": {},
   "source": [
    "Read through the [Pandas documentation](https://pandas.pydata.org/pandas-docs/stable/user_guide/categorical.html) to understand how we're converting categorical variables into numbers."
   ]
  },
  {
   "cell_type": "code",
   "execution_count": 23,
   "metadata": {},
   "outputs": [
    {
     "data": {
      "text/plain": [
       "(array([[43.     ,  1.     , 36.9182 ,  2.     ,  1.     ],\n",
       "        [25.     ,  0.     , 22.76105,  0.     ,  0.     ],\n",
       "        [37.     ,  0.     , 33.756  ,  2.     ,  1.     ],\n",
       "        ...,\n",
       "        [47.     ,  1.     , 24.6477 ,  1.     ,  1.     ],\n",
       "        [35.     ,  1.     , 23.4061 ,  1.     ,  0.     ],\n",
       "        [43.     ,  0.     , 24.5119 ,  1.     ,  1.     ]]),\n",
       " array([[46816.47344 ],\n",
       "        [ 3527.140485],\n",
       "        [43820.1709  ],\n",
       "        ...,\n",
       "        [24176.54459 ],\n",
       "        [ 5637.73727 ],\n",
       "        [23948.47653 ]]))"
      ]
     },
     "execution_count": 23,
     "metadata": {},
     "output_type": "execute_result"
    }
   ],
   "source": [
    "inputs_array, targets_array = dataframe_to_arrays(dataframe)\n",
    "inputs_array, targets_array"
   ]
  },
  {
   "cell_type": "markdown",
   "metadata": {},
   "source": [
    "**Q: Convert the numpy arrays `inputs_array` and `targets_array` into PyTorch tensors. Make sure that the data type is `torch.float32`.**"
   ]
  },
  {
   "cell_type": "code",
   "execution_count": 27,
   "metadata": {},
   "outputs": [],
   "source": [
    "inputs = torch.from_numpy(inputs_array).to(torch.float32)  # ???\n",
    "targets = torch.from_numpy(targets_array).to(torch.float32)"
   ]
  },
  {
   "cell_type": "code",
   "execution_count": 28,
   "metadata": {},
   "outputs": [
    {
     "data": {
      "text/plain": [
       "(torch.float32, torch.float32)"
      ]
     },
     "execution_count": 28,
     "metadata": {},
     "output_type": "execute_result"
    }
   ],
   "source": [
    "inputs.dtype, targets.dtype"
   ]
  },
  {
   "cell_type": "markdown",
   "metadata": {},
   "source": [
    "Next, we need to create PyTorch datasets & data loaders for training & validation. We'll start by creating a `TensorDataset`."
   ]
  },
  {
   "cell_type": "code",
   "execution_count": 29,
   "metadata": {},
   "outputs": [],
   "source": [
    "dataset = TensorDataset(inputs, targets)"
   ]
  },
  {
   "cell_type": "markdown",
   "metadata": {},
   "source": [
    "**Q: Pick a number between `0.1` and `0.2` to determine the fraction of data that will be used for creating the validation set. Then use `random_split` to create training & validation datasets. **"
   ]
  },
  {
   "cell_type": "code",
   "execution_count": 147,
   "metadata": {},
   "outputs": [],
   "source": [
    "val_percent = 0.15 # ??? between 0.1 and 0.2\n",
    "val_size = int(num_rows * val_percent)\n",
    "train_size = num_rows - val_size\n",
    "\n",
    "\n",
    "train_ds, val_ds = random_split(dataset, [train_size, val_size]) # ??? Use the random_split function to split dataset into 2 parts of the desired length"
   ]
  },
  {
   "cell_type": "markdown",
   "metadata": {},
   "source": [
    "Finally, we can create data loaders for training & validation.\n",
    "\n",
    "**Q: Pick a batch size for the data loader.**"
   ]
  },
  {
   "cell_type": "code",
   "execution_count": 148,
   "metadata": {},
   "outputs": [],
   "source": [
    "batch_size = 64  # ???"
   ]
  },
  {
   "cell_type": "code",
   "execution_count": 149,
   "metadata": {},
   "outputs": [],
   "source": [
    "train_loader = DataLoader(train_ds, batch_size, shuffle=True)\n",
    "val_loader = DataLoader(val_ds, batch_size)"
   ]
  },
  {
   "cell_type": "markdown",
   "metadata": {},
   "source": [
    "Let's look at a batch of data to verify everything is working fine so far."
   ]
  },
  {
   "cell_type": "code",
   "execution_count": 118,
   "metadata": {},
   "outputs": [
    {
     "name": "stdout",
     "output_type": "stream",
     "text": [
      "inputs: tensor([[60.0000,  0.0000, 26.7235,  0.0000,  0.0000],\n",
      "        [21.0000,  0.0000, 38.3053,  0.0000,  0.0000],\n",
      "        [64.0000,  1.0000, 23.9590,  1.0000,  0.0000],\n",
      "        [19.0000,  1.0000, 26.7720,  0.0000,  0.0000],\n",
      "        [34.0000,  1.0000, 41.6130,  1.0000,  0.0000],\n",
      "        [34.0000,  1.0000, 31.8160,  1.0000,  0.0000],\n",
      "        [63.0000,  1.0000, 21.0102,  1.0000,  0.0000],\n",
      "        [43.0000,  1.0000, 31.6220,  2.0000,  0.0000],\n",
      "        [47.0000,  0.0000, 23.5904,  0.0000,  0.0000],\n",
      "        [33.0000,  0.0000, 18.5222,  2.0000,  1.0000],\n",
      "        [46.0000,  0.0000, 34.4641,  0.0000,  1.0000],\n",
      "        [18.0000,  0.0000, 36.1713,  1.0000,  0.0000],\n",
      "        [63.0000,  0.0000, 25.4334,  0.0000,  0.0000],\n",
      "        [54.0000,  1.0000, 20.3797,  2.0000,  0.0000],\n",
      "        [40.0000,  1.0000, 34.2410,  3.0000,  0.0000],\n",
      "        [56.0000,  0.0000, 24.5410,  0.0000,  0.0000],\n",
      "        [32.0000,  1.0000, 28.0136,  0.0000,  0.0000],\n",
      "        [31.0000,  0.0000, 28.2270,  0.0000,  0.0000],\n",
      "        [46.0000,  1.0000, 39.1637,  2.0000,  0.0000],\n",
      "        [23.0000,  0.0000, 27.6353,  1.0000,  1.0000],\n",
      "        [55.0000,  0.0000, 25.9960,  1.0000,  0.0000],\n",
      "        [20.0000,  1.0000, 39.2559,  0.0000,  0.0000],\n",
      "        [46.0000,  1.0000, 25.0260,  5.0000,  0.0000],\n",
      "        [40.0000,  0.0000, 28.7120,  0.0000,  0.0000],\n",
      "        [36.0000,  0.0000, 29.0224,  0.0000,  0.0000],\n",
      "        [57.0000,  0.0000, 28.9157,  0.0000,  1.0000],\n",
      "        [58.0000,  1.0000, 33.3583,  0.0000,  0.0000],\n",
      "        [21.0000,  1.0000, 28.1057,  0.0000,  0.0000],\n",
      "        [28.0000,  0.0000, 32.3980,  0.0000,  0.0000],\n",
      "        [44.0000,  0.0000, 35.8464,  1.0000,  0.0000],\n",
      "        [19.0000,  1.0000, 19.8123,  0.0000,  0.0000],\n",
      "        [39.0000,  1.0000, 34.2410,  2.0000,  1.0000],\n",
      "        [38.0000,  0.0000, 19.3515,  2.0000,  0.0000],\n",
      "        [47.0000,  0.0000, 32.8975,  3.0000,  0.0000],\n",
      "        [18.0000,  1.0000, 16.7713,  2.0000,  1.0000],\n",
      "        [26.0000,  0.0000, 29.0224,  2.0000,  0.0000],\n",
      "        [64.0000,  0.0000, 34.8909,  0.0000,  0.0000],\n",
      "        [27.0000,  0.0000, 30.3174,  1.0000,  0.0000],\n",
      "        [19.0000,  0.0000, 28.0136,  0.0000,  1.0000],\n",
      "        [42.0000,  0.0000, 31.8839,  0.0000,  0.0000],\n",
      "        [55.0000,  0.0000, 29.2358,  2.0000,  0.0000],\n",
      "        [47.0000,  1.0000, 18.6143,  1.0000,  0.0000],\n",
      "        [42.0000,  0.0000, 36.7630,  0.0000,  0.0000],\n",
      "        [20.0000,  0.0000, 28.7120,  0.0000,  0.0000],\n",
      "        [27.0000,  1.0000, 22.4070,  0.0000,  0.0000],\n",
      "        [34.0000,  0.0000, 32.2525,  1.0000,  0.0000],\n",
      "        [51.0000,  0.0000, 19.9820,  0.0000,  0.0000],\n",
      "        [55.0000,  1.0000, 34.1876,  1.0000,  0.0000],\n",
      "        [50.0000,  1.0000, 31.3310,  2.0000,  0.0000],\n",
      "        [25.0000,  0.0000, 27.7372,  0.0000,  0.0000],\n",
      "        [52.0000,  1.0000, 33.4505,  3.0000,  1.0000],\n",
      "        [62.0000,  0.0000, 25.5013,  0.0000,  1.0000],\n",
      "        [34.0000,  0.0000, 30.9624,  1.0000,  1.0000],\n",
      "        [24.0000,  1.0000, 30.1331,  0.0000,  1.0000],\n",
      "        [21.0000,  1.0000, 34.4641,  0.0000,  0.0000],\n",
      "        [23.0000,  0.0000, 33.9112,  3.0000,  0.0000],\n",
      "        [51.0000,  0.0000, 33.1740,  1.0000,  0.0000],\n",
      "        [45.0000,  1.0000, 29.2940,  1.0000,  0.0000],\n",
      "        [18.0000,  1.0000, 23.0375,  0.0000,  0.0000],\n",
      "        [56.0000,  1.0000, 19.3515,  0.0000,  1.0000],\n",
      "        [37.0000,  1.0000, 35.1043,  0.0000,  0.0000],\n",
      "        [58.0000,  1.0000, 35.8464,  2.0000,  1.0000],\n",
      "        [21.0000,  0.0000, 16.3106,  1.0000,  0.0000],\n",
      "        [59.0000,  0.0000, 33.7560,  2.0000,  0.0000],\n",
      "        [45.0000,  1.0000, 35.3856,  2.0000,  1.0000],\n",
      "        [46.0000,  0.0000, 26.9078,  0.0000,  0.0000],\n",
      "        [38.0000,  0.0000, 26.7720,  0.0000,  0.0000],\n",
      "        [27.0000,  1.0000, 29.3910,  3.0000,  0.0000],\n",
      "        [35.0000,  1.0000, 23.4061,  1.0000,  0.0000],\n",
      "        [57.0000,  0.0000, 27.8390,  0.0000,  0.0000],\n",
      "        [49.0000,  0.0000, 32.3447,  2.0000,  0.0000],\n",
      "        [28.0000,  0.0000, 25.5256,  3.0000,  0.0000],\n",
      "        [40.0000,  1.0000, 19.2060,  1.0000,  1.0000],\n",
      "        [20.0000,  1.0000, 34.5563,  3.0000,  1.0000],\n",
      "        [28.0000,  0.0000, 26.6750,  2.0000,  0.0000],\n",
      "        [19.0000,  0.0000, 27.4510,  0.0000,  1.0000],\n",
      "        [41.0000,  0.0000, 31.6220,  3.0000,  0.0000],\n",
      "        [54.0000,  1.0000, 31.7917,  0.0000,  0.0000],\n",
      "        [29.0000,  0.0000, 24.8320,  4.0000,  0.0000],\n",
      "        [44.0000,  0.0000, 31.3698,  1.0000,  0.0000],\n",
      "        [54.0000,  0.0000, 28.0136,  2.0000,  0.0000],\n",
      "        [23.0000,  0.0000, 41.4675,  1.0000,  1.0000],\n",
      "        [62.0000,  0.0000, 37.9852,  0.0000,  0.0000],\n",
      "        [57.0000,  1.0000, 27.2570,  0.0000,  0.0000],\n",
      "        [51.0000,  1.0000, 38.5090,  1.0000,  0.0000],\n",
      "        [60.0000,  1.0000, 23.5904,  0.0000,  0.0000],\n",
      "        [36.0000,  1.0000, 27.7372,  3.0000,  0.0000],\n",
      "        [39.0000,  1.0000, 23.7747,  2.0000,  0.0000],\n",
      "        [59.0000,  0.0000, 34.1440,  0.0000,  0.0000],\n",
      "        [19.0000,  1.0000, 21.9317,  0.0000,  0.0000],\n",
      "        [63.0000,  0.0000, 35.2110,  0.0000,  0.0000],\n",
      "        [56.0000,  0.0000, 34.7260,  1.0000,  0.0000],\n",
      "        [45.0000,  1.0000, 23.3139,  2.0000,  0.0000],\n",
      "        [64.0000,  0.0000, 29.2115,  3.0000,  0.0000],\n",
      "        [30.0000,  0.0000, 22.2082,  1.0000,  0.0000],\n",
      "        [55.0000,  0.0000, 35.9870,  0.0000,  0.0000],\n",
      "        [32.0000,  1.0000, 36.2150,  1.0000,  0.0000],\n",
      "        [18.0000,  1.0000, 37.9658,  0.0000,  0.0000],\n",
      "        [46.0000,  1.0000, 32.4368,  1.0000,  0.0000],\n",
      "        [44.0000,  0.0000, 26.6750,  1.0000,  0.0000],\n",
      "        [50.0000,  1.0000, 26.6313,  1.0000,  0.0000],\n",
      "        [60.0000,  1.0000, 35.8464,  0.0000,  0.0000],\n",
      "        [49.0000,  0.0000, 35.5311,  3.0000,  0.0000],\n",
      "        [44.0000,  1.0000, 33.2904,  1.0000,  0.0000],\n",
      "        [64.0000,  0.0000, 30.3610,  2.0000,  1.0000],\n",
      "        [26.0000,  1.0000, 29.1000,  1.0000,  0.0000],\n",
      "        [35.0000,  0.0000, 26.8690,  3.0000,  0.0000],\n",
      "        [58.0000,  0.0000, 32.1070,  0.0000,  0.0000],\n",
      "        [32.0000,  1.0000, 30.5550,  1.0000,  0.0000],\n",
      "        [53.0000,  1.0000, 28.0136,  0.0000,  0.0000],\n",
      "        [20.0000,  1.0000, 38.2180,  2.0000,  1.0000],\n",
      "        [40.0000,  0.0000, 32.0100,  3.0000,  0.0000],\n",
      "        [40.0000,  0.0000, 40.1774,  1.0000,  0.0000],\n",
      "        [18.0000,  0.0000, 29.2115,  0.0000,  0.0000],\n",
      "        [37.0000,  0.0000, 25.6080,  0.0000,  1.0000],\n",
      "        [47.0000,  1.0000, 27.3685,  3.0000,  1.0000],\n",
      "        [35.0000,  0.0000, 42.0398,  2.0000,  0.0000],\n",
      "        [51.0000,  0.0000, 36.5981,  1.0000,  0.0000],\n",
      "        [61.0000,  0.0000, 20.4573,  0.0000,  0.0000],\n",
      "        [34.0000,  1.0000, 40.8661,  2.0000,  0.0000],\n",
      "        [18.0000,  0.0000, 32.8636,  0.0000,  0.0000],\n",
      "        [40.0000,  0.0000, 28.4210,  4.0000,  0.0000],\n",
      "        [41.0000,  0.0000, 27.4607,  1.0000,  0.0000],\n",
      "        [55.0000,  1.0000, 31.7917,  0.0000,  0.0000],\n",
      "        [43.0000,  1.0000, 26.9660,  0.0000,  1.0000],\n",
      "        [53.0000,  0.0000, 23.0375,  2.0000,  0.0000],\n",
      "        [27.0000,  0.0000, 31.4231,  1.0000,  0.0000],\n",
      "        [36.0000,  0.0000, 26.9078,  0.0000,  0.0000]])\n",
      "targets: tensor([[14538.8037],\n",
      "        [ 2229.6716],\n",
      "        [33183.2812],\n",
      "        [ 1377.6477],\n",
      "        [ 4989.8848],\n",
      "        [15794.2012],\n",
      "        [15784.8398],\n",
      "        [ 8185.6509],\n",
      "        [ 9388.1387],\n",
      "        [18453.9336],\n",
      "        [46322.8320],\n",
      "        [ 2441.3896],\n",
      "        [15681.8125],\n",
      "        [12115.0830],\n",
      "        [ 7916.5537],\n",
      "        [12177.5889],\n",
      "        [ 4253.5405],\n",
      "        [ 4137.4214],\n",
      "        [ 9606.5518],\n",
      "        [20161.0625],\n",
      "        [38676.1484],\n",
      "        [ 2182.8987],\n",
      "        [11106.6670],\n",
      "        [ 6502.0386],\n",
      "        [ 5377.9404],\n",
      "        [30287.3047],\n",
      "        [12918.3271],\n",
      "        [ 2096.9941],\n",
      "        [ 3489.2197],\n",
      "        [ 8825.4492],\n",
      "        [ 1787.9772],\n",
      "        [44114.2773],\n",
      "        [ 7847.2930],\n",
      "        [11126.5098],\n",
      "        [14112.4004],\n",
      "        [ 4380.1743],\n",
      "        [15745.2305],\n",
      "        [ 4351.6787],\n",
      "        [19523.3574],\n",
      "        [ 7755.0234],\n",
      "        [13070.1670],\n",
      "        [ 9490.2949],\n",
      "        [ 7121.4141],\n",
      "        [ 2062.8784],\n",
      "        [ 2732.1096],\n",
      "        [ 6154.3301],\n",
      "        [10191.2764],\n",
      "        [12533.4717],\n",
      "        [10593.4365],\n",
      "        [ 3534.9844],\n",
      "        [66023.5391],\n",
      "        [30589.5977],\n",
      "        [41472.0664],\n",
      "        [37679.4570],\n",
      "        [ 1685.7167],\n",
      "        [ 4913.2837],\n",
      "        [10859.9707],\n",
      "        [ 8185.1582],\n",
      "        [ 1876.1869],\n",
      "        [24653.9141],\n",
      "        [21136.1758],\n",
      "        [52246.1445],\n",
      "        [ 3484.2014],\n",
      "        [40601.6680],\n",
      "        [47036.5508],\n",
      "        [ 8829.3330],\n",
      "        [ 5921.8896],\n",
      "        [ 4686.8184],\n",
      "        [ 5637.7373],\n",
      "        [12600.8076],\n",
      "        [11408.0039],\n",
      "        [ 5843.3867],\n",
      "        [18897.4746],\n",
      "        [41211.8789],\n",
      "        [22195.4375],\n",
      "        [18789.1875],\n",
      "        [ 8749.9688],\n",
      "        [11478.5713],\n",
      "        [ 6279.7539],\n",
      "        [ 8397.0928],\n",
      "        [13306.3164],\n",
      "        [44994.6211],\n",
      "        [14817.8848],\n",
      "        [12061.9902],\n",
      "        [10330.4805],\n",
      "        [13775.9648],\n",
      "        [ 7203.0146],\n",
      "        [ 7381.2109],\n",
      "        [13468.9844],\n",
      "        [ 1791.3180],\n",
      "        [15275.9248],\n",
      "        [12841.5430],\n",
      "        [ 9464.9316],\n",
      "        [18101.2793],\n",
      "        [ 5191.4766],\n",
      "        [11785.0088],\n",
      "        [ 5134.3687],\n",
      "        [14179.0635],\n",
      "        [ 9168.0488],\n",
      "        [ 8389.6924],\n",
      "        [10579.4287],\n",
      "        [14015.2842],\n",
      "        [11419.6270],\n",
      "        [ 7862.2202],\n",
      "        [52020.1602],\n",
      "        [ 3194.4968],\n",
      "        [ 7055.5957],\n",
      "        [13032.9551],\n",
      "        [ 4484.1465],\n",
      "        [10856.7910],\n",
      "        [42179.0234],\n",
      "        [ 8450.9365],\n",
      "        [31324.4082],\n",
      "        [ 2423.8191],\n",
      "        [21493.1680],\n",
      "        [27406.7422],\n",
      "        [ 6431.6094],\n",
      "        [10865.3682],\n",
      "        [14756.5420],\n",
      "        [ 5636.6074],\n",
      "        [12630.8984],\n",
      "        [17411.7031],\n",
      "        [ 7868.9092],\n",
      "        [11661.7959],\n",
      "        [41612.6953],\n",
      "        [12902.6475],\n",
      "        [20793.8398],\n",
      "        [ 6015.9072]])\n"
     ]
    }
   ],
   "source": [
    "for xb, yb in train_loader:\n",
    "    print(\"inputs:\", xb)\n",
    "    print(\"targets:\", yb)\n",
    "    break"
   ]
  },
  {
   "cell_type": "markdown",
   "metadata": {},
   "source": [
    "Let's save our work by committing to Jovian."
   ]
  },
  {
   "cell_type": "code",
   "execution_count": null,
   "metadata": {},
   "outputs": [],
   "source": [
    "jovian.commit(project=project_name, environment=None)"
   ]
  },
  {
   "cell_type": "markdown",
   "metadata": {},
   "source": [
    "## Step 3: Create a Linear Regression Model\n",
    "\n",
    "Our model itself is a fairly straightforward linear regression (we'll build more complex models in the next assignment). \n"
   ]
  },
  {
   "cell_type": "code",
   "execution_count": 34,
   "metadata": {},
   "outputs": [],
   "source": [
    "input_size = len(input_cols)\n",
    "output_size = len(output_cols)"
   ]
  },
  {
   "cell_type": "markdown",
   "metadata": {},
   "source": [
    "**Q: Complete the class definition below by filling out the constructor (`__init__`), `forward`, `training_step` and `validation_step` methods.**\n",
    "\n",
    "Hint: Think carefully about picking a good loss fuction (it's not cross entropy). Maybe try 2-3 of them and see which one works best. See https://pytorch.org/docs/stable/nn.functional.html#loss-functions"
   ]
  },
  {
   "cell_type": "code",
   "execution_count": 199,
   "metadata": {},
   "outputs": [],
   "source": [
    "class InsuranceModel(nn.Module):\n",
    "    def __init__(self):\n",
    "        super().__init__()\n",
    "        self.linear = nn.Linear(input_size, output_size)  # ??? fill this (hint: use input_size & output_size defined above)\n",
    "        \n",
    "    def forward(self, xb):\n",
    "        out = self.linear(xb)                          # ??? fill this\n",
    "        return out\n",
    "    \n",
    "    def training_step(self, batch):\n",
    "        inputs, targets = batch \n",
    "        # Generate predictions\n",
    "        out = self(inputs)          \n",
    "        # Calcuate loss\n",
    "        loss = F.smooth_l1_loss(out, targets)      # ??? fill this\n",
    "        return loss\n",
    "    \n",
    "    def validation_step(self, batch):\n",
    "        inputs, targets = batch\n",
    "        # Generate predictions\n",
    "        out = self(inputs)\n",
    "        # Calculate loss\n",
    "        loss = F.smooth_l1_loss(out, targets)     # ??? fill this    \n",
    "        return {'val_loss': loss.detach()}\n",
    "        \n",
    "    def validation_epoch_end(self, outputs):\n",
    "        batch_losses = [x['val_loss'] for x in outputs]\n",
    "        epoch_loss = torch.stack(batch_losses).mean()   # Combine losses\n",
    "        return {'val_loss': epoch_loss.item()}\n",
    "    \n",
    "    def epoch_end(self, epoch, result, num_epochs):\n",
    "        # Print result every 20th epoch\n",
    "        if (epoch+1) % 20 == 0 or epoch == num_epochs-1:\n",
    "            print(\"Epoch [{}], val_loss: {:.4f}\".format(epoch+1, result['val_loss']))"
   ]
  },
  {
   "cell_type": "markdown",
   "metadata": {},
   "source": [
    "Let us create a model using the `InsuranceModel` class. You may need to come back later and re-run the next cell to reinitialize the model, in case the loss becomes `nan` or `infinity`."
   ]
  },
  {
   "cell_type": "code",
   "execution_count": 200,
   "metadata": {},
   "outputs": [],
   "source": [
    "model = InsuranceModel()"
   ]
  },
  {
   "cell_type": "markdown",
   "metadata": {},
   "source": [
    "Let's check out the weights and biases of the model using `model.parameters`."
   ]
  },
  {
   "cell_type": "code",
   "execution_count": 202,
   "metadata": {},
   "outputs": [
    {
     "data": {
      "text/plain": [
       "[Parameter containing:\n",
       " tensor([[-0.3843, -0.1291, -0.1944, -0.4301, -0.1098]], requires_grad=True),\n",
       " Parameter containing:\n",
       " tensor([-0.3425], requires_grad=True)]"
      ]
     },
     "execution_count": 202,
     "metadata": {},
     "output_type": "execute_result"
    }
   ],
   "source": [
    "list(model.parameters())"
   ]
  },
  {
   "cell_type": "markdown",
   "metadata": {},
   "source": [
    "One final commit before we train the model."
   ]
  },
  {
   "cell_type": "code",
   "execution_count": null,
   "metadata": {},
   "outputs": [],
   "source": [
    "jovian.commit(project=project_name, environment=None)"
   ]
  },
  {
   "cell_type": "markdown",
   "metadata": {},
   "source": [
    "## Step 4: Train the model to fit the data\n",
    "\n",
    "To train our model, we'll use the same `fit` function explained in the lecture. That's the benefit of defining a generic training loop - you can use it for any problem."
   ]
  },
  {
   "cell_type": "code",
   "execution_count": 38,
   "metadata": {},
   "outputs": [],
   "source": [
    "def evaluate(model, val_loader):\n",
    "    outputs = [model.validation_step(batch) for batch in val_loader]\n",
    "    return model.validation_epoch_end(outputs)\n",
    "\n",
    "def fit(epochs, lr, model, train_loader, val_loader, opt_func=torch.optim.SGD):\n",
    "    history = []\n",
    "    optimizer = opt_func(model.parameters(), lr)\n",
    "    for epoch in range(epochs):\n",
    "        # Training Phase \n",
    "        for batch in train_loader:\n",
    "            loss = model.training_step(batch)\n",
    "            loss.backward()\n",
    "            optimizer.step()\n",
    "            optimizer.zero_grad()\n",
    "        # Validation phase\n",
    "        result = evaluate(model, val_loader)\n",
    "        model.epoch_end(epoch, result, epochs)\n",
    "        history.append(result)\n",
    "    return history"
   ]
  },
  {
   "cell_type": "markdown",
   "metadata": {},
   "source": [
    "**Q: Use the `evaluate` function to calculate the loss on the validation set before training.**"
   ]
  },
  {
   "cell_type": "code",
   "execution_count": 203,
   "metadata": {},
   "outputs": [
    {
     "name": "stdout",
     "output_type": "stream",
     "text": [
      "{'val_loss': 16231.3076171875}\n"
     ]
    }
   ],
   "source": [
    "result = evaluate(model, val_loader) # ??? Use the the evaluate function\n",
    "print(result)"
   ]
  },
  {
   "cell_type": "markdown",
   "metadata": {},
   "source": [
    "\n",
    "We are now ready to train the model. You may need to run the training loop many times, for different number of epochs and with different learning rates, to get a good result. Also, if your loss becomes too large (or `nan`), you may have to re-initialize the model by running the cell `model = InsuranceModel()`. Experiment with this for a while, and try to get to as low a loss as possible."
   ]
  },
  {
   "cell_type": "markdown",
   "metadata": {},
   "source": [
    "**Q: Train the model 4-5 times with different learning rates & for different number of epochs.**\n",
    "\n",
    "Hint: Vary learning rates by orders of 10 (e.g. `1e-2`, `1e-3`, `1e-4`, `1e-5`, `1e-6`) to figure out what works."
   ]
  },
  {
   "cell_type": "code",
   "execution_count": 204,
   "metadata": {},
   "outputs": [
    {
     "name": "stdout",
     "output_type": "stream",
     "text": [
      "Epoch [10], val_loss: 12369.0469\n"
     ]
    }
   ],
   "source": [
    "epochs = 10  # ???\n",
    "lr = 1e-2   # ???\n",
    "history1 = fit(epochs, lr, model, train_loader, val_loader)"
   ]
  },
  {
   "cell_type": "code",
   "execution_count": 205,
   "metadata": {},
   "outputs": [
    {
     "name": "stdout",
     "output_type": "stream",
     "text": [
      "Epoch [10], val_loss: 12368.7393\n"
     ]
    }
   ],
   "source": [
    "epochs = 10   # ???\n",
    "lr = 1e-6    # ???\n",
    "history2 = fit(epochs, lr, model, train_loader, val_loader)"
   ]
  },
  {
   "cell_type": "code",
   "execution_count": 206,
   "metadata": {},
   "outputs": [
    {
     "name": "stdout",
     "output_type": "stream",
     "text": [
      "Epoch [20], val_loss: 12368.6982\n"
     ]
    }
   ],
   "source": [
    "epochs = 20   # ???\n",
    "lr = 1e-7   # ???\n",
    "history3 = fit(epochs, lr, model, train_loader, val_loader)"
   ]
  },
  {
   "cell_type": "code",
   "execution_count": 207,
   "metadata": {},
   "outputs": [
    {
     "name": "stdout",
     "output_type": "stream",
     "text": [
      "Epoch [20], val_loss: 12368.6982\n",
      "Epoch [40], val_loss: 12368.6982\n"
     ]
    }
   ],
   "source": [
    "epochs = 40   # ???\n",
    "lr = 1e-8   # ???\n",
    "history4 = fit(epochs, lr, model, train_loader, val_loader)"
   ]
  },
  {
   "cell_type": "code",
   "execution_count": 208,
   "metadata": {
    "scrolled": false
   },
   "outputs": [
    {
     "name": "stdout",
     "output_type": "stream",
     "text": [
      "Epoch [20], val_loss: 12368.6982\n",
      "Epoch [30], val_loss: 12368.6982\n"
     ]
    }
   ],
   "source": [
    "epochs = 30    # ???\n",
    "lr = 1e-8   # ???\n",
    "history5 = fit(epochs, lr, model, train_loader, val_loader)"
   ]
  },
  {
   "cell_type": "markdown",
   "metadata": {},
   "source": [
    "**Q: What is the final validation loss of your model?**"
   ]
  },
  {
   "cell_type": "code",
   "execution_count": 217,
   "metadata": {},
   "outputs": [
    {
     "data": {
      "text/plain": [
       "12368.6982421875"
      ]
     },
     "execution_count": 217,
     "metadata": {},
     "output_type": "execute_result"
    }
   ],
   "source": [
    "val_loss = evaluate(model, val_loader)  # ???\n",
    "val_loss['val_loss']"
   ]
  },
  {
   "cell_type": "markdown",
   "metadata": {},
   "source": [
    "Let's log the final validation loss to Jovian and commit the notebook"
   ]
  },
  {
   "cell_type": "code",
   "execution_count": null,
   "metadata": {},
   "outputs": [],
   "source": [
    "jovian.log_metrics(val_loss=val_loss)"
   ]
  },
  {
   "cell_type": "code",
   "execution_count": null,
   "metadata": {},
   "outputs": [],
   "source": [
    "jovian.commit(project=project_name, environment=None)"
   ]
  },
  {
   "cell_type": "markdown",
   "metadata": {},
   "source": [
    "Now scroll back up, re-initialize the model, and try different set of values for batch size, number of epochs, learning rate etc. Commit each experiment and use the \"Compare\" and \"View Diff\" options on Jovian to compare the different results."
   ]
  },
  {
   "cell_type": "markdown",
   "metadata": {},
   "source": [
    "## Step 5: Make predictions using the trained model\n",
    "\n",
    "**Q: Complete the following function definition to make predictions on a single input**"
   ]
  },
  {
   "cell_type": "code",
   "execution_count": 186,
   "metadata": {},
   "outputs": [],
   "source": [
    "def predict_single(input, target, model):\n",
    "    inputs = input.unsqueeze(0)\n",
    "    predictions = model(inputs)              # ??? fill this\n",
    "    prediction = predictions[0].detach()\n",
    "    print(\"Input:\", input)\n",
    "    print(\"Target:\", target.item())\n",
    "    print(\"Prediction:\", prediction.item())"
   ]
  },
  {
   "cell_type": "code",
   "execution_count": 210,
   "metadata": {},
   "outputs": [
    {
     "name": "stdout",
     "output_type": "stream",
     "text": [
      "Input: tensor([38.0000,  0.0000, 28.0621,  1.0000,  0.0000])\n",
      "Target: 6571.8232421875\n",
      "Prediction: 3785.45458984375\n"
     ]
    }
   ],
   "source": [
    "input, target = val_ds[0]\n",
    "predict_single(input, target, model)"
   ]
  },
  {
   "cell_type": "code",
   "execution_count": 212,
   "metadata": {},
   "outputs": [
    {
     "name": "stdout",
     "output_type": "stream",
     "text": [
      "Input: tensor([51.0000,  0.0000, 36.9182,  0.0000,  1.0000])\n",
      "Target: 48840.4453125\n",
      "Prediction: 5043.140625\n"
     ]
    }
   ],
   "source": [
    "input, target = val_ds[10]\n",
    "predict_single(input, target, model)"
   ]
  },
  {
   "cell_type": "code",
   "execution_count": 213,
   "metadata": {},
   "outputs": [
    {
     "name": "stdout",
     "output_type": "stream",
     "text": [
      "Input: tensor([41.0000,  1.0000, 35.9385,  2.0000,  0.0000])\n",
      "Target: 7992.27294921875\n",
      "Prediction: 4353.609375\n"
     ]
    }
   ],
   "source": [
    "input, target = val_ds[23]\n",
    "predict_single(input, target, model)"
   ]
  },
  {
   "cell_type": "markdown",
   "metadata": {},
   "source": [
    "Are you happy with your model's predictions? Try to improve them further."
   ]
  },
  {
   "cell_type": "markdown",
   "metadata": {},
   "source": [
    "## (Optional) Step 6: Try another dataset & blog about it\n",
    "\n",
    "While this last step is optional for the submission of your assignment, we highly recommend that you do it. Try to clean up & replicate this notebook (or [this one](https://jovian.ml/aakashns/housing-linear-minimal), or [this one](https://jovian.ml/aakashns/mnist-logistic-minimal) ) for a different linear regression or logistic regression problem. This will help solidify your understanding, and give you a chance to differentiate the generic patters in machine learning from problem-specific details.\n",
    "\n",
    "Here are some sources to find good datasets:\n",
    "\n",
    "- https://lionbridge.ai/datasets/10-open-datasets-for-linear-regression/\n",
    "- https://www.kaggle.com/rtatman/datasets-for-regression-analysis\n",
    "- https://archive.ics.uci.edu/ml/datasets.php?format=&task=reg&att=&area=&numAtt=&numIns=&type=&sort=nameUp&view=table\n",
    "- https://people.sc.fsu.edu/~jburkardt/datasets/regression/regression.html\n",
    "- https://archive.ics.uci.edu/ml/datasets/wine+quality\n",
    "- https://pytorch.org/docs/stable/torchvision/datasets.html\n",
    "\n",
    "We also recommend that you write a blog about your approach to the problem. Here is a suggested structure for your post (feel free to experiment with it):\n",
    "\n",
    "- Interesting title & subtitle\n",
    "- Overview of what the blog covers (which dataset, linear regression or logistic regression, intro to PyTorch)\n",
    "- Downloading & exploring the data\n",
    "- Preparing the data for training\n",
    "- Creating a model using PyTorch\n",
    "- Training the model to fit the data\n",
    "- Your thoughts on how to experiment with different hyperparmeters to reduce loss\n",
    "- Making predictions using the model\n",
    "\n",
    "As with the previous assignment, you can [embed Juptyer notebook cells & outputs from Jovian](https://medium.com/jovianml/share-and-embed-jupyter-notebooks-online-with-jovian-ml-df709a03064e) into your blog. \n",
    "\n",
    "Don't forget to share your work on the forum: https://jovian.ml/forum/t/share-your-work-here-assignment-2/4931"
   ]
  },
  {
   "cell_type": "code",
   "execution_count": null,
   "metadata": {},
   "outputs": [
    {
     "data": {
      "application/javascript": [
       "window.require && require([\"base/js/namespace\"],function(Jupyter){Jupyter.notebook.save_checkpoint()})"
      ],
      "text/plain": [
       "<IPython.core.display.Javascript object>"
      ]
     },
     "metadata": {},
     "output_type": "display_data"
    },
    {
     "name": "stdout",
     "output_type": "stream",
     "text": [
      "[jovian] Attempting to save notebook..\u001b[0m\n",
      "[jovian] Please enter your API key ( from https://jovian.ml/ ):\u001b[0m\n",
      "API KEY: ········\n",
      "[jovian] Creating a new project \"aakashns/02-insurance-linear-regression\"\u001b[0m\n",
      "[jovian] Uploading notebook..\u001b[0m\n",
      "[jovian] Committed successfully! https://jovian.ml/aakashns/02-insurance-linear-regression\u001b[0m\n"
     ]
    },
    {
     "data": {
      "application/javascript": [
       "window.require && require([\"base/js/namespace\"],function(Jupyter){Jupyter.notebook.save_checkpoint()})"
      ],
      "text/plain": [
       "<IPython.core.display.Javascript object>"
      ]
     },
     "metadata": {},
     "output_type": "display_data"
    }
   ],
   "source": [
    "jovian.commit(project=project_name, environment=None)\n",
    "jovian.commit(project=project_name, environment=None) # try again, kaggle fails sometimes"
   ]
  }
 ],
 "metadata": {
  "hide_input": false,
  "kernelspec": {
   "display_name": "Python 3",
   "language": "python",
   "name": "python3"
  },
  "language_info": {
   "codemirror_mode": {
    "name": "ipython",
    "version": 3
   },
   "file_extension": ".py",
   "mimetype": "text/x-python",
   "name": "python",
   "nbconvert_exporter": "python",
   "pygments_lexer": "ipython3",
   "version": "3.7.7"
  },
  "toc": {
   "base_numbering": 1,
   "nav_menu": {},
   "number_sections": true,
   "sideBar": true,
   "skip_h1_title": false,
   "title_cell": "Table of Contents",
   "title_sidebar": "Contents",
   "toc_cell": true,
   "toc_position": {},
   "toc_section_display": true,
   "toc_window_display": false
  }
 },
 "nbformat": 4,
 "nbformat_minor": 4
}
